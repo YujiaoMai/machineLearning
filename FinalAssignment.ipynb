{
    "cells": [
        {
            "cell_type": "markdown",
            "metadata": {},
            "source": "#  My Jupyter Notebook on IBM Watson Studio\n\n**Yujiao Mai** \n<br>\n100% Human & 100% Robot\n<br>\n"
        },
        {
            "cell_type": "markdown",
            "metadata": {},
            "source": "\n*I am interested in data science to gain insights from data. Because I love to be a robot.*\n\n"
        },
        {
            "cell_type": "markdown",
            "metadata": {},
            "source": "### The following code testes the Gauss formula"
        },
        {
            "cell_type": "markdown",
            "metadata": {},
            "source": "<div>"
        },
        {
            "cell_type": "code",
            "execution_count": 2,
            "metadata": {},
            "outputs": [
                {
                    "name": "stdout",
                    "output_type": "stream",
                    "text": "True\n"
                }
            ],
            "source": "def gauss(n):\n    return (n*(n+1))/2\n    \nprint(gauss(100)==sum(range(101)))"
        },
        {
            "cell_type": "markdown",
            "metadata": {},
            "source": "****\n-  One\n-  two\n*  three\n*  ono\n*  two\n*  three \n\nMarkdown|Less|Pretty\n:-|:----|------:\n*Still*|renders|**nicely**\n1|2|3\n\n[www.ibm.com](https://www.ibm.com)"
        }
    ],
    "metadata": {
        "kernelspec": {
            "display_name": "Python 3.7",
            "language": "python",
            "name": "python3"
        },
        "language_info": {
            "codemirror_mode": {
                "name": "ipython",
                "version": 3
            },
            "file_extension": ".py",
            "mimetype": "text/x-python",
            "name": "python",
            "nbconvert_exporter": "python",
            "pygments_lexer": "ipython3",
            "version": "3.7.9"
        }
    },
    "nbformat": 4,
    "nbformat_minor": 1
}